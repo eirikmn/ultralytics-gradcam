{
 "cells": [
  {
   "cell_type": "code",
   "execution_count": 17,
   "metadata": {},
   "outputs": [
    {
     "name": "stdout",
     "output_type": "stream",
     "text": [
      "Collecting pandas\n",
      "  Using cached pandas-2.0.3-cp311-cp311-macosx_11_0_arm64.whl (10.7 MB)\n",
      "Requirement already satisfied: python-dateutil>=2.8.2 in /Users/emy016/opt/anaconda3/envs/noratest/lib/python3.11/site-packages (from pandas) (2.8.2)\n",
      "Collecting pytz>=2020.1 (from pandas)\n",
      "  Using cached pytz-2023.3-py2.py3-none-any.whl (502 kB)\n",
      "Collecting tzdata>=2022.1 (from pandas)\n",
      "  Using cached tzdata-2023.3-py2.py3-none-any.whl (341 kB)\n",
      "Requirement already satisfied: numpy>=1.21.0 in /Users/emy016/opt/anaconda3/envs/noratest/lib/python3.11/site-packages (from pandas) (1.25.1)\n",
      "Requirement already satisfied: six>=1.5 in /Users/emy016/opt/anaconda3/envs/noratest/lib/python3.11/site-packages (from python-dateutil>=2.8.2->pandas) (1.16.0)\n",
      "Installing collected packages: pytz, tzdata, pandas\n",
      "Successfully installed pandas-2.0.3 pytz-2023.3 tzdata-2023.3\n"
     ]
    }
   ],
   "source": [
    "\n",
    "#!sudo pip3 install requests\n",
    "#!pip3 install tqdm\n",
    "#!pip3 install matplotlib\n",
    "#!pip3 install pyyaml\n",
    "#!pip3 install torchvision\n",
    "#!pip3 install scipy\n",
    "#!pip3 install pandas\n"
   ]
  },
  {
   "cell_type": "code",
   "execution_count": 1,
   "metadata": {},
   "outputs": [],
   "source": [
    "\n",
    "# load libraries\n",
    "\n",
    "\n",
    "import torch\n",
    "import torch.nn as nn\n",
    "import torch.nn.functional as F\n",
    "from PIL import Image\n",
    "import sys\n",
    "import numpy as np\n",
    "import torch\n",
    "\n",
    "#plot a cv2 image\n",
    "import cv2\n"
   ]
  },
  {
   "cell_type": "code",
   "execution_count": 3,
   "metadata": {},
   "outputs": [],
   "source": [
    "# add modified YOLOv8 library (cloned from git: URL)\n",
    "\n",
    "sys.path.append('ultralytics')\n",
    "from ultralytics import YOLO #make sure you do not have another library with the same name"
   ]
  },
  {
   "cell_type": "code",
   "execution_count": 4,
   "metadata": {},
   "outputs": [],
   "source": [
    "# This block defines some useful functions\n",
    "\n",
    "# define a function that reads the labels from the label file\n",
    "def labelreader(labpath=None):\n",
    "        labels = []\n",
    "        with open(labpath, 'r') as f:\n",
    "            for line in f:\n",
    "                #append each line to the labels as floats\n",
    "                labels.append(line.strip())\n",
    "\n",
    "        for i in range(len(labels)):\n",
    "            labels[i] = labels[i].split(' ')\n",
    "            for j in range(len(labels[i])):\n",
    "                labels[i][j] = float(labels[i][j])\n",
    "\n",
    "        #cast each element to float and store to tensor\n",
    "        labels = torch.tensor(labels)\n",
    "        return labels\n",
    "\n",
    "\n",
    "#This function generates an image where the CAM heatmap has been overlayed onto the original image\n",
    "def make_heatmap(image, heatmap, transparancy = 0.3, plot=False):\n",
    "    heatmapp = cv2.applyColorMap(np.uint8(255 * heatmap), cv2.COLORMAP_JET)\n",
    "    \n",
    "    imgg = image.astype(np.uint8)\n",
    "    cam_img = transparancy * heatmapp + (1-transparancy) * imgg\n",
    "    cam_img = cam_img.astype(np.uint8)\n",
    "    \n",
    "    if plot:\n",
    "        cv2.imshow(\"image\",cam_img)\n",
    "    \n",
    "    return cam_img\n",
    "\n",
    "\n",
    "\n",
    "# This function plots the heatmap and the bounding boxes on the same image\n",
    "def plot_heatmap(image, heatmap, bboxes = None, transparancy = 0.3, savename = None, boxlabels = None):\n",
    "    \n",
    "    cam_img = make_heatmap(image, heatmap, transparancy, plot=False)\n",
    "    \n",
    "    if bboxes is not None:\n",
    "        colors = [[0, 0, 255], [0, 255, 0], [255, 0, 0], [255,255,255]]\n",
    "        if boxlabels is None:\n",
    "            boxlabels = [\"sediment\", \"agglutinated\", \"calcareous\", \"planktic\"]\n",
    "        \n",
    "        labheight = -10\n",
    "        labwidth = -7\n",
    "        imgsz = (image.shape[0],image.shape[1])\n",
    "        for i in range(bboxes.shape[0]):\n",
    "            box = bboxes[i,:]\n",
    "            cls = box[0]\n",
    "            cls = int(cls)\n",
    "            xc = float(box[1])\n",
    "            yc = float(box[2])\n",
    "            w = float(box[3])\n",
    "            h = float(box[4])\n",
    "            x1 = round((xc-0.5*w)*imgsz[0])\n",
    "            x2 = round((xc+0.5*w)*imgsz[0])\n",
    "            y1 = round((yc-0.5*h)*imgsz[1])\n",
    "            y2 = round((yc+0.5*h)*imgsz[1])\n",
    "            \n",
    "            cv2.rectangle(cam_img, (x1, y1), (x2, y2), colors[cls], 2)\n",
    "            cv2.putText(cam_img, boxlabels[cls], (x1+labwidth, y1+labheight),cv2.FONT_HERSHEY_SIMPLEX, 0.8, colors[cls], 2)\n",
    "    \n",
    "    if savename is not None:\n",
    "        cv2.imwrite(savename, cam_img)\n",
    "    cv2.imshow(\"image\",cam_img)\n",
    "    \n",
    "    return cam_img\n",
    "\n"
   ]
  },
  {
   "cell_type": "code",
   "execution_count": 5,
   "metadata": {},
   "outputs": [
    {
     "name": "stderr",
     "output_type": "stream",
     "text": [
      "\n",
      "/Users/emy016/Dropbox/Postdoc2/Kurs/noratest/noratest-root/ultralytics/ultralytics/yolo/engine/predictor.py:142: RuntimeWarning: invalid value encountered in divide\n",
      "  cam = cam / cam.max()\n",
      "/Users/emy016/Dropbox/Postdoc2/Kurs/noratest/noratest-root/ultralytics/ultralytics/yolo/engine/predictor.py:148: RuntimeWarning: invalid value encountered in cast\n",
      "  heatmap = cv2.applyColorMap(np.uint8(255 * cam), cv2.COLORMAP_JET)\n",
      "0: 1280x1280 2 cats, 12595.4ms\n",
      "Speed: 15.5ms preprocess, 12595.4ms inference, 7.8ms postprocess per image at shape (1, 3, 1280, 1280)\n"
     ]
    }
   ],
   "source": [
    "model = YOLO(\"yolov8x.pt\")\n",
    "catimg = Image.open(\"cats.jpg\")\n",
    "\n",
    "#remember to add label file path in \"./ultralytics/ultralytics/yolo/engine/predictor.py, line 382\"\n",
    "results = model.predict(source=catimg, save=False, visualize = True, imgsz=1280)  # save plotted images"
   ]
  },
  {
   "cell_type": "code",
   "execution_count": 9,
   "metadata": {},
   "outputs": [],
   "source": [
    "# lets reload the image as a cv2 image\n",
    "image = cv2.imread(\"cats.jpg\")\n",
    "#image = cv2.cvtColor(image, cv2.COLOR_BGR2RGB)\n",
    "\n",
    "#give the path to the label file of the sample image\n",
    "labpath = \"cats.txt\"\n",
    "\n",
    "#load labels into useable format\n",
    "bboxes = labelreader(labpath)"
   ]
  },
  {
   "cell_type": "code",
   "execution_count": 10,
   "metadata": {},
   "outputs": [],
   "source": [
    "# Lets import the heatmap from the \n",
    "\n",
    "run = 15 #run number for the prediction\n",
    "\n",
    "layers = [18,19,20,21] #which layer to use for the heatmap\n",
    "\n",
    "resultfolder = \"./runs/detect/\"+ \"predict\" + str(run) + \"/\"\n",
    "\n",
    "for layer in layers:\n",
    "\n",
    "    #load heatmap\n",
    "    heatmap = np.load(resultfolder + str(layer) + \".npy\")\n",
    "\n",
    "    #run the function\n",
    "    savename = \"catimg\"+str(run) + \"-layer\" + str(layer) +\"-heatmap.jpg\"\n",
    "    cam_img = plot_heatmap(image,heatmap, bboxes, transparancy = 0.3, savename = savename, boxlabels = [\"cat\"])\n"
   ]
  },
  {
   "cell_type": "code",
   "execution_count": null,
   "metadata": {},
   "outputs": [],
   "source": [
    "#Load pre-trained model\n",
    "model = YOLO(\"forams4-1280-augmentedraw-bigtest-200epochs-yolov8x.pt\")\n",
    "\n",
    "#load example image\n",
    "im0 = Image.open(\"sampleimg-0.jpg\")\n",
    "im1 = Image.open(\"sampleimg-1.jpg\")\n",
    "im2 = Image.open(\"sampleimg-2.jpg\")\n",
    "im3 = Image.open(\"sampleimg-3.jpg\")\n",
    "\n",
    "\n",
    "#remember to add label file path in \"./ultralytics/ultralytics/yolo/engine/predictor.py, line 382\"\n",
    "#run prediction with visualize = True to generate heatmap\n",
    "results = model.predict(source=im0, save=False, visualize = True)  # save plotted images\n",
    "\n",
    "#The results are stored in /runs/detect/predict..."
   ]
  },
  {
   "cell_type": "code",
   "execution_count": 10,
   "metadata": {},
   "outputs": [],
   "source": [
    "# lets reload the image as a cv2 image\n",
    "image = cv2.imread(\"sampleimg-3.jpg\")\n",
    "\n",
    "#give the path to the label file of the sample image\n",
    "labpath = \"sampleimg-3.txt\"\n",
    "\n",
    "#load labels into useable format\n",
    "bboxes = labelreader(labpath)"
   ]
  },
  {
   "cell_type": "code",
   "execution_count": 11,
   "metadata": {},
   "outputs": [],
   "source": [
    "# Lets import the heatmap from the \n",
    "\n",
    "run = 4 #run number for the prediction\n",
    "\n",
    "\n",
    "layer = 21 #which layer to use for the heatmap\n",
    "\n",
    "resultfolder = \"./runs/detect/\"+ \"predict\" + str(run) + \"/\"\n",
    "\n",
    "#load heatmap\n",
    "heatmap = np.load(resultfolder + str(layer) + \".npy\")\n",
    "\n",
    "\n",
    "#run the function\n",
    "savename = \"sampleimg\"+str(run)+\"-heatmap.jpg\"\n",
    "cam_img = plot_heatmap(image,heatmap, bboxes, transparancy = 0.3, savename = savename)\n"
   ]
  }
 ],
 "metadata": {
  "kernelspec": {
   "display_name": "nora",
   "language": "python",
   "name": "python3"
  },
  "language_info": {
   "codemirror_mode": {
    "name": "ipython",
    "version": 3
   },
   "file_extension": ".py",
   "mimetype": "text/x-python",
   "name": "python",
   "nbconvert_exporter": "python",
   "pygments_lexer": "ipython3",
   "version": "3.11.4"
  },
  "orig_nbformat": 4
 },
 "nbformat": 4,
 "nbformat_minor": 2
}
