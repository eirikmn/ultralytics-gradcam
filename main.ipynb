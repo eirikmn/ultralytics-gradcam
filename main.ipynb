{
 "cells": [
  {
   "cell_type": "code",
   "execution_count": 1,
   "metadata": {},
   "outputs": [],
   "source": [
    "#!pip install pytorch-gradcam"
   ]
  },
  {
   "cell_type": "code",
   "execution_count": 2,
   "metadata": {},
   "outputs": [],
   "source": [
    "import os\n",
    "import cv2\n",
    "import PIL\n",
    "import numpy as np\n",
    "\n",
    "import torch\n",
    "import torch.nn.functional as F\n",
    "import torchvision.models as models\n",
    "from torchvision import transforms\n",
    "from torchvision.utils import make_grid, save_image\n",
    "\n",
    "import matplotlib.pyplot as plt\n",
    "\n",
    "from gradcam.utils import visualize_cam\n",
    "from gradcam import GradCAM, GradCAMpp\n",
    "\n",
    "device = 'cuda' if torch.cuda.is_available() else 'cpu'"
   ]
  },
  {
   "cell_type": "code",
   "execution_count": null,
   "metadata": {},
   "outputs": [],
   "source": [
    "#write a function that computes the gradient class activation map of the given image using the given pytorch model\n",
    "def compute_gradcam(image, model, target_layers, device):\n",
    "    #initialize the gradcam object\n",
    "    cam = GradCAM(model=model, target_layer=target_layers, use_cuda=device)\n",
    "    #get the model prediction\n",
    "    pred = model(image)\n",
    "    #get the index of the predicted class\n",
    "    pred_idx = pred.argmax(dim=1)\n",
    "    #compute the gradcam\n",
    "    cam_image = cam(image, pred_idx)\n",
    "    #visualize the gradcam\n",
    "    cam_image = visualize_cam(cam_image)\n",
    "    return cam_image\n",
    "\n"
   ]
  },
  {
   "cell_type": "code",
   "execution_count": 6,
   "metadata": {},
   "outputs": [],
   "source": [
    "#write a function that computes the gradient class activation map of the given  image using the given YOLO model\n",
    "def compute_gradcam_yolo(image, model, target_layers, device):\n",
    "    #initialize the gradcam object\n",
    "    cam = GradCAM(model=model, target_layer=target_layers, use_cuda=device)\n",
    "    #get the model prediction\n",
    "    pred = model(image)\n",
    "    #get the index of the predicted class\n",
    "    pred_idx = pred.argmax(dim=1)\n",
    "    #compute the gradcam\n",
    "    cam_image = cam(image, pred_idx)\n",
    "    #visualize the gradcam\n",
    "    cam_image = visualize_cam(cam_image)\n",
    "    return cam_image\n",
    "\n"
   ]
  },
  {
   "cell_type": "code",
   "execution_count": 4,
   "metadata": {},
   "outputs": [],
   "source": [
    "from ultralytics import YOLO\n",
    "model = YOLO(\"/Users/emy016/Dropbox/Postdoc2/Kurs/NORA summer school 2023/NORAprosjekt/forams4-1280-augmentedraw-bigtest-200epochs-yolov8x.pt\")"
   ]
  },
  {
   "attachments": {},
   "cell_type": "markdown",
   "metadata": {},
   "source": []
  },
  {
   "cell_type": "code",
   "execution_count": 7,
   "metadata": {},
   "outputs": [
    {
     "ename": "TypeError",
     "evalue": "GradCAM.__init__() got an unexpected keyword argument 'model'",
     "output_type": "error",
     "traceback": [
      "\u001b[0;31m---------------------------------------------------------------------------\u001b[0m",
      "\u001b[0;31mTypeError\u001b[0m                                 Traceback (most recent call last)",
      "Cell \u001b[0;32mIn[7], line 8\u001b[0m\n\u001b[1;32m      5\u001b[0m \u001b[39m#load image from path\u001b[39;00m\n\u001b[1;32m      6\u001b[0m img \u001b[39m=\u001b[39m Image\u001b[39m.\u001b[39mopen(\u001b[39m\"\u001b[39m\u001b[39m/Users/emy016/Dropbox/Postdoc2/Kurs/NORA summer school 2023/NORAprosjekt/samples/agglutinated.jpg\u001b[39m\u001b[39m\"\u001b[39m)\n\u001b[0;32m----> 8\u001b[0m cam_img \u001b[39m=\u001b[39m compute_gradcam_yolo(img, model, target_layers\u001b[39m=\u001b[39;49m\u001b[39m\"\u001b[39;49m\u001b[39mconv\u001b[39;49m\u001b[39m\"\u001b[39;49m, device\u001b[39m=\u001b[39;49mdevice)\n",
      "Cell \u001b[0;32mIn[6], line 4\u001b[0m, in \u001b[0;36mcompute_gradcam_yolo\u001b[0;34m(image, model, target_layers, device)\u001b[0m\n\u001b[1;32m      2\u001b[0m \u001b[39mdef\u001b[39;00m \u001b[39mcompute_gradcam_yolo\u001b[39m(image, model, target_layers, device):\n\u001b[1;32m      3\u001b[0m     \u001b[39m#initialize the gradcam object\u001b[39;00m\n\u001b[0;32m----> 4\u001b[0m     cam \u001b[39m=\u001b[39m GradCAM(model\u001b[39m=\u001b[39;49mmodel, target_layer\u001b[39m=\u001b[39;49mtarget_layers, use_cuda\u001b[39m=\u001b[39;49mdevice)\n\u001b[1;32m      5\u001b[0m     \u001b[39m#get the model prediction\u001b[39;00m\n\u001b[1;32m      6\u001b[0m     pred \u001b[39m=\u001b[39m model(image)\n",
      "\u001b[0;31mTypeError\u001b[0m: GradCAM.__init__() got an unexpected keyword argument 'model'"
     ]
    }
   ],
   "source": [
    "import matplotlib.pyplot as plt\n",
    "import matplotlib.patches as patches\n",
    "import numpy as np\n",
    "from PIL import Image\n",
    "#load image from path\n",
    "img = Image.open(\"/Users/emy016/Dropbox/Postdoc2/Kurs/NORA summer school 2023/NORAprosjekt/samples/agglutinated.jpg\")\n",
    "\n",
    "cam_img = compute_gradcam_yolo(img, model, target_layers=\"conv\", device=device)"
   ]
  },
  {
   "cell_type": "code",
   "execution_count": null,
   "metadata": {},
   "outputs": [],
   "source": []
  }
 ],
 "metadata": {
  "kernelspec": {
   "display_name": "tf",
   "language": "python",
   "name": "python3"
  },
  "language_info": {
   "codemirror_mode": {
    "name": "ipython",
    "version": 3
   },
   "file_extension": ".py",
   "mimetype": "text/x-python",
   "name": "python",
   "nbconvert_exporter": "python",
   "pygments_lexer": "ipython3",
   "version": "3.10.11"
  },
  "orig_nbformat": 4
 },
 "nbformat": 4,
 "nbformat_minor": 2
}
